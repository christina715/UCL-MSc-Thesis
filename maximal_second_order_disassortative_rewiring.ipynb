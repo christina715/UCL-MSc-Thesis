{
 "cells": [
  {
   "cell_type": "code",
   "execution_count": 1,
   "metadata": {
    "collapsed": true
   },
   "outputs": [],
   "source": [
    "import networkx as nx\n",
    "from operator import itemgetter\n",
    "from networkx import ego_graph\n",
    "import matplotlib.pyplot as plt\n",
    "import pylab \n",
    "import random\n",
    "import pandas as pd\n",
    "from networkx.algorithms.assortativity.mixing import mixing_dict\n",
    "from networkx.utils import dict_to_numpy_array\n",
    "from networkx.utils import accumulate\n",
    "import scipy.stats as stats\n",
    "import numpy as np  \n",
    "#import pylab as pl\n",
    "from pylab import *  \n",
    "from matplotlib.ticker import MultipleLocator, FormatStrFormatter\n",
    "\n",
    "import random\n"
   ]
  },
  {
   "cell_type": "markdown",
   "metadata": {},
   "source": [
    "## Create a graph"
   ]
  },
  {
   "cell_type": "code",
   "execution_count": 2,
   "metadata": {
    "collapsed": true
   },
   "outputs": [],
   "source": [
    "def createGraph(filename) :\n",
    "    G = nx.Graph()\n",
    "    for line in open(filename) :\n",
    "        strlist = line.split()\n",
    "        n1 = int(strlist[0])\n",
    "        n2 = int(strlist[1])\n",
    "        G.add_edges_from([(n1, n2)]) #G.add_edges_from([(n1, n2)])\n",
    "    return G"
   ]
  },
  {
   "cell_type": "code",
   "execution_count": 3,
   "metadata": {
    "collapsed": false
   },
   "outputs": [],
   "source": [
    "import csv\n",
    "#G= createGraph('11ER.csv')\n",
    "G=nx.read_edgelist(\"assortative_protein_3.edgelist\", nodetype=int)\n",
    "\n"
   ]
  },
  {
   "cell_type": "code",
   "execution_count": 4,
   "metadata": {
    "collapsed": true
   },
   "outputs": [],
   "source": [
    "# a set of nodes which degree is equal to seleted node \n",
    "\n",
    "def equal_degree_nodes(G,node):\n",
    "    degree_dist=sorted(G.degree_iter(),key=itemgetter(1),reverse=True)\n",
    "    ad=[]\n",
    "    for x,y in degree_dist:\n",
    "        if y == G.degree(node):\n",
    "            ad.append(x)\n",
    "    return ad"
   ]
  },
  {
   "cell_type": "code",
   "execution_count": 5,
   "metadata": {
    "collapsed": true
   },
   "outputs": [],
   "source": [
    "#A function for degree sequences\n",
    "\n",
    "def node_neighbor_max_degree_xy(G, x='out', y='in', weight=None, nodes=None):\n",
    "    if nodes is None:\n",
    "        nodes = set(G)\n",
    "    else:\n",
    "        nodes = set(nodes)\n",
    "    xdeg = G.degree\n",
    "    ydeg = G.degree\n",
    "    for start_node_ID in xdeg(nodes):\n",
    "        neighbors = (nbr for _,nbr in G.edges(start_node_ID) if nbr in nodes)\n",
    "        \n",
    "        for end_node_ID in neighbors:\n",
    "            nbrdeg_start = G.degree(G[start_node_ID])\n",
    "            nbrdeg_end = G.degree(G[end_node_ID])     \n",
    "            nbrdeg_start.pop(end_node_ID)\n",
    "            nbrdeg_end.pop(start_node_ID)\n",
    "                       \n",
    "            a = []\n",
    "            b = []\n",
    "            \n",
    "            for n in nbrdeg_start:                \n",
    "                a.append(nbrdeg_start[n])\n",
    "            if a:\n",
    "                degu = max(a)-1 \n",
    "            else:\n",
    "                degu = 1\n",
    "            for m in nbrdeg_end:\n",
    "                b.append(nbrdeg_end[m])\n",
    "            if b:\n",
    "                degv = max(b)-1\n",
    "            else:\n",
    "                degv = 1\n",
    "            \n",
    "            yield( start_node_ID,end_node_ID,degu,degv)"
   ]
  },
  {
   "cell_type": "code",
   "execution_count": 6,
   "metadata": {
    "collapsed": false
   },
   "outputs": [],
   "source": [
    "#A function for checking new neighbour maximum degree\n",
    "\n",
    "def new_maxi_degree(G,start_node_ID,end_node_ID):\n",
    "    nodes = set(G)\n",
    "\n",
    "    nbrdeg_start = G.degree(G[start_node_ID])\n",
    "    nbrdeg_end = G.degree(G[end_node_ID])\n",
    "            \n",
    "    nbrdeg_start.pop(end_node_ID)\n",
    "    nbrdeg_end.pop(start_node_ID)\n",
    "           \n",
    "    a = []\n",
    "    b = []\n",
    "    for n in nbrdeg_start:                \n",
    "        a.append(nbrdeg_start[n])\n",
    "    if a:\n",
    "        degu = max(a)-1 \n",
    "    else:\n",
    "        degu = 1\n",
    "    for m in nbrdeg_end:\n",
    "        b.append(nbrdeg_end[m])\n",
    "    if b:\n",
    "        degv = max(b)-1\n",
    "    else:\n",
    "        degv = 1\n",
    "            \n",
    "    return( start_node_ID,end_node_ID,degu,degv)        \n"
   ]
  },
  {
   "cell_type": "code",
   "execution_count": 7,
   "metadata": {
    "collapsed": false
   },
   "outputs": [
    {
     "name": "stdout",
     "output_type": "stream",
     "text": [
      "0.866876244447\n",
      "0.866876244447\n"
     ]
    }
   ],
   "source": [
    "#initial original second-order assortative coefficient\n",
    "\n",
    "node_neg_maxi_degree=node_neighbor_max_degree_xy(G)\n",
    "a1,b1,x1,y1=zip(*node_neg_maxi_degree)\n",
    "second_order_coef = stats.pearsonr(x1,y1)[0]\n",
    "print(second_order_coef)\n",
    "a1=list(a1)\n",
    "b1=list(b1)\n",
    "x1=list(x1)\n",
    "y1=list(y1)\n",
    "second_order_coef = stats.pearsonr(x1,y1)[0]\n",
    "print(second_order_coef)"
   ]
  },
  {
   "cell_type": "code",
   "execution_count": 8,
   "metadata": {
    "collapsed": false
   },
   "outputs": [
    {
     "name": "stdout",
     "output_type": "stream",
     "text": [
      "0.866876244447\n",
      "cost: 2.1724908351898193\n"
     ]
    }
   ],
   "source": [
    "\n",
    "count_number=[0]  #record the times of rewiring\n",
    "sec_order_coefficient = []\n",
    "\n",
    "import time\n",
    "\n",
    "start = time.time()\n",
    "\n",
    "for n in range(300000):\n",
    "    \n",
    "    #print(i)\n",
    "    if n == 0:\n",
    "        node_neg_maxi_degree=node_neighbor_max_degree_xy(G)\n",
    "        node_s2,node_e2,maxi_x2,maxi_y2=zip(*node_neg_maxi_degree)\n",
    "        second_order_coef = stats.pearsonr(maxi_x2,maxi_y2)[0]\n",
    "        print(second_order_coef)\n",
    "        sec_order_coefficient.append(second_order_coef)\n",
    "    \n",
    "    a,x = random.choice(G.edges())  #randomly choose an edge from network\n",
    "\n",
    "    A = random.choice([a,x]) #randomly choose a node from this edge for next step KA = KB\n",
    "\n",
    "    X = x if A == a else a  #for constant A and X\n",
    "    #print(A,X)\n",
    "    \n",
    "    B ,Y = random.choice(G.edges(equal_degree_nodes(G,A))) # another edge where KA = KB\n",
    "    \n",
    "    #print(B,Y)\n",
    "    \n",
    "    if A == B:\n",
    "        pass\n",
    "    \n",
    "    elif X == Y:\n",
    "        pass\n",
    "    \n",
    "    elif A == Y:\n",
    "        pass\n",
    "    \n",
    "    elif B == X:\n",
    "        pass\n",
    "    \n",
    "    else:\n",
    "        \n",
    "        if (G.has_edge(A,Y) == False and G.has_edge(B,X) == False):\n",
    "            \n",
    "            count_number[0]=count_number[0]+1\n",
    "            #print(len(count_number))\n",
    "            #print(A,X)\n",
    "            #print(B,Y)\n",
    "            #print(G.has_edge(A,Y),G.has_edge(B,X),G.has_edge(A,X),G.has_edge(B,Y))\n",
    "            a1=list(a1)\n",
    "            b1=list(b1)\n",
    "            x1=list(x1)\n",
    "            y1=list(y1)\n",
    "            a2=tuple(a1)\n",
    "            b2=tuple(b1)\n",
    "            x2=tuple(x1)\n",
    "            y2=tuple(y1)\n",
    "            \n",
    "            \n",
    "            second_order_coef_b = stats.pearsonr(x1,y1)[0]    #calculating original second-order coefficient\n",
    "            \n",
    "            G.remove_edge(A,X)      #rewiring\n",
    "            G.remove_edge(B,Y)\n",
    "            G.add_edge(A,Y)\n",
    "            G.add_edge(B,X)\n",
    "            \n",
    "            for i in range(len(x1)):          #change neighbour maximum degree and nodes\n",
    "                if a1[i] == A and b1[i]==X:\n",
    "                    b1[i]=Y\n",
    "                    a1[i],b1[i],x1[i],y1[i] = new_maxi_degree(G,a1[i],b1[i])\n",
    "        \n",
    "                if a1[i] == B and b1[i]==Y:\n",
    "                    b1[i]=X\n",
    "                    a1[i],b1[i],x1[i],y1[i] = new_maxi_degree(G,a1[i],b1[i])\n",
    "    \n",
    "                if a1[i] == X and b1[i]==A:\n",
    "                    b1[i]=B\n",
    "                    a1[i],b1[i],x1[i],y1[i] = new_maxi_degree(G,a1[i],b1[i])\n",
    "        \n",
    "                if a1[i] == Y and b1[i]==B:\n",
    "                    b1[i]=A\n",
    "                    a1[i],b1[i],x1[i],y1[i] = new_maxi_degree(G,a1[i],b1[i])\n",
    "                \n",
    "                if a1[i] == A or a1[i] == X or a1[i] == B or a1[i] == Y:\n",
    "                    #print(a1[i],b1[i])\n",
    "                    a1[i],b1[i],x1[i],y1[i] = new_maxi_degree(G,a1[i],b1[i])\n",
    "                if b1[i] == A or b1[i] == X or b1[i] == B or b1[i] == Y:\n",
    "                    #print(a1[i],b1[i])\n",
    "                    a1[i],b1[i],x1[i],y1[i] = new_maxi_degree(G,a1[i],b1[i])\n",
    "\n",
    "        \n",
    "            second_order_coef_af = stats.pearsonr(x1,y1)[0]   #calculating the second-order assortative coefficient after rewiring\n",
    "            \n",
    "            if second_order_coef_b <= second_order_coef_af:   #disassortative case selects small one\n",
    "                G.remove_edge(A,Y)\n",
    "                G.remove_edge(B,X)\n",
    "                G.add_edge(A,X)\n",
    "                G.add_edge(B,Y)\n",
    "                \n",
    "                a1,b1,x1,y1=a2,b2,x2,y2\n",
    "                \n",
    "            else:\n",
    "                pass\n",
    "               \n",
    "    if count_number[0]!= 0 and count_number[0] in range(0,300001,1000):  #record second-order assortative coefficient every 1000 times\n",
    "        \n",
    "        if second_order_coef_b <= second_order_coef_af:\n",
    "            sec_order_coefficient.append(second_order_coef_b)\n",
    "            print(second_order_coef_b)\n",
    "        else:\n",
    "            sec_order_coefficient.append(second_order_coef_af)\n",
    "            print(second_order_coef_af)\n",
    "            \n",
    "    \n",
    "    if len(sec_order_coefficient)>2 and (abs(sec_order_coefficient[-1] - sec_order_coefficient[-2]) < 0.000001) and (sec_order_coefficient[-1] != sec_order_coefficient[-2]):\n",
    "        \n",
    "        nx.write_edgelist(G, \"disassortative_ER_final.edgelist\")\n",
    "        break\n",
    "        \n",
    "    if count_number[0]==200000:\n",
    "        break\n",
    "        \n",
    "    \n",
    "\n",
    "nx.write_edgelist(G, \"assortative_protein_3_2.edgelist\")\n",
    "        \n",
    "with open('assortative_protein_3_2.csv','w') as f:\n",
    "    f_csv = csv.writer(f)\n",
    "    for item in sec_order_coefficient:\n",
    "        f_csv.writerow([item])\n",
    "\n",
    "end = time.time()\n",
    "print(\"cost:\", end-start)\n",
    "        \n",
    "        \n",
    "\n",
    "\n",
    "\n"
   ]
  },
  {
   "cell_type": "code",
   "execution_count": null,
   "metadata": {
    "collapsed": true
   },
   "outputs": [],
   "source": []
  }
 ],
 "metadata": {
  "kernelspec": {
   "display_name": "Python [default]",
   "language": "python",
   "name": "python3"
  },
  "language_info": {
   "codemirror_mode": {
    "name": "ipython",
    "version": 3
   },
   "file_extension": ".py",
   "mimetype": "text/x-python",
   "name": "python",
   "nbconvert_exporter": "python",
   "pygments_lexer": "ipython3",
   "version": "3.5.2"
  }
 },
 "nbformat": 4,
 "nbformat_minor": 2
}
