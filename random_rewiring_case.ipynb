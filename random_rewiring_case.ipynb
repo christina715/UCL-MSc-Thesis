{
 "cells": [
  {
   "cell_type": "code",
   "execution_count": 2,
   "metadata": {
    "collapsed": true
   },
   "outputs": [],
   "source": [
    "import networkx as nx\n",
    "from operator import itemgetter\n",
    "from networkx import ego_graph\n",
    "import matplotlib.pyplot as plt\n",
    "import pylab \n",
    "import random\n",
    "import pandas as pd\n",
    "from networkx.algorithms.assortativity.mixing import mixing_dict\n",
    "from networkx.utils import dict_to_numpy_array\n",
    "from networkx.utils import accumulate\n",
    "import scipy.stats as stats\n",
    "import numpy as np  \n",
    "#import pylab as pl\n",
    "from pylab import *  \n",
    "from matplotlib.ticker import MultipleLocator, FormatStrFormatter\n",
    "import csv\n",
    "\n",
    "import random"
   ]
  },
  {
   "cell_type": "code",
   "execution_count": 3,
   "metadata": {
    "collapsed": false
   },
   "outputs": [],
   "source": [
    "#G=nx.Graph()\n",
    "#G=nx.read_edgelist(\"random_1_Protein_new_50000_1.edgelist\", nodetype=int)\n",
    "#fh=open(\"01Scientist.adjlist\", 'rb')\n",
    "#G=nx.read_adjlist(fh,comments='#',nodetype=int)\n",
    "def createGraph(filename) :\n",
    "    G = nx.Graph()\n",
    "    for line in open(filename) :\n",
    "        strlist = line.split()\n",
    "        n1 = int(strlist[0])\n",
    "        n2 = int(strlist[1])\n",
    "        G.add_edges_from([(n1, n2)]) #G.add_edges_from([(n1, n2)])\n",
    "    return G\n",
    "\n",
    "G= createGraph('11ER.csv')\n",
    "#G=nx.read_edgelist('ER.edgelist',nodetype=int)\n"
   ]
  },
  {
   "cell_type": "code",
   "execution_count": 4,
   "metadata": {
    "collapsed": true
   },
   "outputs": [],
   "source": [
    "# a set of nodes which degree is equal to seleted node \n",
    "\n",
    "def equal_degree_nodes(G,node):\n",
    "    degree_dist=sorted(G.degree_iter(),key=itemgetter(1),reverse=True)\n",
    "    ad=[]\n",
    "    for x,y in degree_dist:\n",
    "        if y == G.degree(node):\n",
    "            ad.append(x)\n",
    "    return ad"
   ]
  },
  {
   "cell_type": "code",
   "execution_count": 5,
   "metadata": {
    "collapsed": true
   },
   "outputs": [],
   "source": [
    "def node_neighbor_max_degree_xy(G, x='out', y='in', weight=None, nodes=None):\n",
    "    if nodes is None:\n",
    "        nodes = set(G)\n",
    "    else:\n",
    "        nodes = set(nodes)\n",
    "    xdeg = G.degree\n",
    "    ydeg = G.degree\n",
    "    for start_node_ID in xdeg(nodes):\n",
    "        neighbors = (nbr for _,nbr in G.edges(start_node_ID) if nbr in nodes)\n",
    "        for end_node_ID in neighbors:\n",
    "            nbrdeg_start = G.degree(G[start_node_ID])\n",
    "            nbrdeg_end = G.degree(G[end_node_ID])\n",
    "            \n",
    "            nbrdeg_start.pop(end_node_ID)\n",
    "            nbrdeg_end.pop(start_node_ID)\n",
    "            a = []\n",
    "            b = []\n",
    "            for n in nbrdeg_start:                \n",
    "                a.append(nbrdeg_start[n])\n",
    "            if a:\n",
    "                degu = max(a)-1 \n",
    "            else:\n",
    "                degu = 1\n",
    "            for m in nbrdeg_end:\n",
    "                b.append(nbrdeg_end[m])\n",
    "            if b:\n",
    "                degv = max(b)-1\n",
    "            else:\n",
    "                degv = 1\n",
    "            \n",
    "            yield degu,degv"
   ]
  },
  {
   "cell_type": "code",
   "execution_count": 6,
   "metadata": {
    "collapsed": false
   },
   "outputs": [
    {
     "name": "stdout",
     "output_type": "stream",
     "text": [
      "0.00611090838811\n",
      "cost: 1.9906160831451416\n"
     ]
    }
   ],
   "source": [
    "sec_order_coefficient = []\n",
    "count_number = [0]\n",
    "\n",
    "import time\n",
    "\n",
    "start = time.time()\n",
    "\n",
    "for i in range(0,300000):\n",
    "    \n",
    "    if i == 0:\n",
    "        node_neg_maxi_degree=node_neighbor_max_degree_xy(G)\n",
    "        x1,y1=zip(*node_neg_maxi_degree)\n",
    "        second_order_coef = stats.pearsonr(x1,y1)[0]\n",
    "        print(second_order_coef)\n",
    "        sec_order_coefficient.append(second_order_coef)\n",
    "\n",
    "    a,x = random.choice(G.edges())  #randomly choose an edge from network\n",
    "\n",
    "    A = random.choice([a,x]) #randomly choose a node from this edge for next step KA = KB\n",
    "\n",
    "    X = x if A==a else a  #for constant A and X\n",
    "    #print(A,X)\n",
    "    B,Y = random.choice(G.edges(equal_degree_nodes(G,A))) # another edge where KA = KB\n",
    "    #print(B,Y)\n",
    "    if A == B:\n",
    "        pass\n",
    "    \n",
    "    elif X == Y:\n",
    "        pass\n",
    "    \n",
    "    elif A == Y:\n",
    "        pass    \n",
    "    elif B == X:\n",
    "        pass   \n",
    "    else:    \n",
    "        if (G.has_edge(A,Y) == False and G.has_edge(B,X) == False):\n",
    "            count_number[0] = count_number[0]+1\n",
    "            \n",
    "            random_choice = random.choice(['rewiring','unchange'])\n",
    "            if random_choice == 'rewiring':\n",
    "                G.remove_edge(A,X)\n",
    "                G.remove_edge(B,Y)\n",
    "                G.add_edge(A,Y)\n",
    "                G.add_edge(B,X)\n",
    "            else:\n",
    "                pass                 \n",
    "    if count_number[0]!=0 and count_number[0] in range(0,300001,1000):\n",
    "        node_neg_maxi_degree=node_neighbor_max_degree_xy(G)\n",
    "        x1,y1=zip(*node_neg_maxi_degree)\n",
    "        second_order_coef = stats.pearsonr(x1,y1)[0]\n",
    "        print(second_order_coef)\n",
    "        sec_order_coefficient.append(second_order_coef)\n",
    "        \n",
    "    if count_number[0] == 100000:\n",
    "        print(\"i am 100000:\", second_order_coef)\n",
    "        nx.write_edgelist(G, \"random_1_ER_new__100000.edgelist\")\n",
    "        with open('random_1_ER_new_100000_2nd_coef.csv','w') as f:\n",
    "            f_csv = csv.writer(f)\n",
    "            for item in sec_order_coefficient:\n",
    "                f_csv.writerow([item])\n",
    "        break\n",
    "                \n",
    "    \n",
    "            \n",
    "    \n",
    "\n",
    "    \n",
    "        \n",
    "\n",
    "    #plt.scatter(i, second_order_coef)\n",
    "    #plt.pause(2)\n",
    "    \n",
    "\n",
    "\n",
    "end = time.time()\n",
    "print(\"cost:\", end-start)\n",
    "        \n",
    "   \n",
    "\n",
    "\n",
    "\n",
    "\n",
    "\n",
    "\n",
    "\n",
    "\n"
   ]
  },
  {
   "cell_type": "code",
   "execution_count": null,
   "metadata": {
    "collapsed": true
   },
   "outputs": [],
   "source": []
  }
 ],
 "metadata": {
  "anaconda-cloud": {},
  "kernelspec": {
   "display_name": "Python [conda root]",
   "language": "python",
   "name": "conda-root-py"
  },
  "language_info": {
   "codemirror_mode": {
    "name": "ipython",
    "version": 3
   },
   "file_extension": ".py",
   "mimetype": "text/x-python",
   "name": "python",
   "nbconvert_exporter": "python",
   "pygments_lexer": "ipython3",
   "version": "3.5.2"
  }
 },
 "nbformat": 4,
 "nbformat_minor": 2
}
