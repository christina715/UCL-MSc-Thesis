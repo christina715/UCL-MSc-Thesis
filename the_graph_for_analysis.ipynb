{
 "cells": [
  {
   "cell_type": "code",
   "execution_count": 1,
   "metadata": {
    "collapsed": true
   },
   "outputs": [],
   "source": [
    "import networkx as nx\n",
    "from operator import itemgetter\n",
    "from networkx import ego_graph\n",
    "import matplotlib.pyplot as plt\n",
    "import pylab \n",
    "import random\n",
    "import pandas as pd\n",
    "from networkx.algorithms.assortativity.mixing import mixing_dict\n",
    "from networkx.utils import dict_to_numpy_array\n",
    "from networkx.utils import accumulate\n",
    "import scipy.stats as stats\n",
    "import numpy as np  \n",
    "#import pylab as pl\n",
    "from pylab import *  \n",
    "from matplotlib.ticker import MultipleLocator, FormatStrFormatter\n",
    "import pandas as pd\n",
    "import sys, os\n",
    "import random\n",
    "\n",
    "\n",
    "\n"
   ]
  },
  {
   "cell_type": "code",
   "execution_count": 51,
   "metadata": {
    "collapsed": true
   },
   "outputs": [],
   "source": [
    "ASS_BA = pd.read_csv('BA/trend_assortative_BA.csv',header=None)\n",
    "ASS_ER = pd.read_csv('ER/trend_assortative_ER.csv',header=None)\n",
    "ASS_PROTEIN = pd.read_csv('protein/trend_assortative_protein.csv',header=None)\n",
    "ASS_SCIENTIST = pd.read_csv('scientist/trend_assortative_scientist.csv',header=None)\n",
    "\n",
    "DIS_BA = pd.read_csv('BA/trend_disassortative_BA.csv',header=None)\n",
    "DIS_ER = pd.read_csv('ER/trend_disassortative_ER.csv',header=None)\n",
    "DIS_PROTEIN = pd.read_csv('protein/trend_disassortative_protein.csv',header=None)\n",
    "DIS_SCIENTIST = pd.read_csv('scientist/trend_disassortative_scientist.csv',header=None)"
   ]
  },
  {
   "cell_type": "code",
   "execution_count": 3,
   "metadata": {
    "collapsed": true
   },
   "outputs": [],
   "source": [
    "#Maximum_random, Maximum_assort, Maximum_disassort, Original\n",
    "BA_range = [-0.045666855065919998,0.85712272431600001,-0.51421427729699998,-0.059374335059099996]\n",
    "\n",
    "ER_range = [0.00025153933610300009,0.95296544239299996,-0.92884285384499998,0.0061109083881099998]\n",
    "\n",
    "Protein_range = [-0.0067848781199127597,0.93460836280500004,-0.71777146547218718,0.032640470545299997]\n",
    "\n",
    "Scientist_range = [0.11267755281660038,0.97291347752185564,-0.76794009071831981,0.64744506162600002]\n",
    "\n",
    "Internet_range = [-0.20668348195796898,0.506415317806,-0.794784599486,0.036212469458599995]"
   ]
  },
  {
   "cell_type": "code",
   "execution_count": 4,
   "metadata": {
    "collapsed": true
   },
   "outputs": [],
   "source": [
    "BA_L= [0.85712272431600001,-0.51421427729699998]\n",
    "ER_L = [0.95296544239299996,-0.92884285384499998]\n",
    "Protein_L = [0.93460836280500004,-0.71777146547218718]\n",
    "Scientist_L = [0.97291347752185564,-0.76794009071831981]\n",
    "Internet_L = [0.506415317806,-0.794784599486]"
   ]
  },
  {
   "cell_type": "code",
   "execution_count": 5,
   "metadata": {
    "collapsed": false
   },
   "outputs": [],
   "source": [
    "lala1=[min(Internet_range),max(Internet_range)]\n",
    "lala2=[min(Protein_range),max(Protein_range)]\n",
    "lala3=[min(Scientist_range),max(Scientist_range)]\n",
    "lala4=[min(ER_range),max(ER_range)]\n",
    "lala5=[min(BA_range),max(BA_range)]"
   ]
  },
  {
   "cell_type": "code",
   "execution_count": 26,
   "metadata": {
    "collapsed": false
   },
   "outputs": [
    {
     "data": {
      "image/png": "[encoded data removed]",
      "text/plain": [
       "<matplotlib.figure.Figure at 0x112ca3f28>"
      ]
     },
     "metadata": {},
     "output_type": "display_data"
    }
   ],
   "source": [
    "BB=[0,0]\n",
    "CC=[-0.2,-0.2]\n",
    "DD=[-0.4,-0.4]\n",
    "EE=[-0.6,-0.6]\n",
    "FF=[-0.8,-0.8]\n",
    "fig = plt.figure(figsize=(8, 6))\n",
    "ax = fig.add_subplot(111)\n",
    "#ax.set_ylim(1, -2)\n",
    "\n",
    "\n",
    "for tick in ax.yaxis.get_major_ticks():\n",
    "    tick.label1On = False\n",
    "    tick.label2On = False\n",
    "#ax = fig.add_subplot(111, frameon=False)\n",
    "#ax.set(xscale=\"log\", yscale=\"log\")\n",
    "#ax.set_aspect(1)\n",
    "l = plt.axvline(x=0,linestyle ='--',c='#CBCACA')\n",
    "\n",
    "ax.plot(lala1,BB,'#8b8378')\n",
    "\n",
    "#ax.plot(lala1,BB,'#8b8378')\n",
    "ax.plot([0.036212469458599995],[0],color='r',marker='s')\n",
    "ax.plot([0.506415317806],[0],color='g',marker='D')\n",
    "ax.plot([-0.794784599486],[0],color='c',marker='P')\n",
    "ax.plot([-0.20668348195796898],[0],color='b',marker='o')\n",
    "\n",
    "\n",
    "ax.plot(lala2,CC,'#8b8378')\n",
    "ax.plot([0.032640470545299997],[-0.2],color='r',marker='s')\n",
    "ax.plot([0.93460836280500004],[-0.2],color='g',marker='D')\n",
    "ax.plot([-0.71777146547218718],[-0.2],color='c',marker='P')\n",
    "ax.plot([-0.0067848781199127597],[-0.2],color='b',marker='o')\n",
    "\n",
    "\n",
    "ax.plot(lala3,DD,'#8b8378')\n",
    "ax.plot([0.64744506162600002],[-0.4],color='r',marker='s')\n",
    "ax.plot([0.97291347752185564],[-0.4],color='g',marker='D')\n",
    "ax.plot([-0.76794009071831981],[-0.4],color='c',marker='P')\n",
    "ax.plot([0.11267755281660038],[-0.4],color='b',marker='o')\n",
    "\n",
    "\n",
    "ax.plot(lala4,EE,'#8b8378')\n",
    "ax.plot([0.0061109083881099998],[-0.6],color='r',marker='s')\n",
    "ax.plot([0.95296544239299996],[-0.6],color='g',marker='D')\n",
    "ax.plot([-0.92884285384499998],[-0.6],color='c',marker='P')\n",
    "ax.plot([0.00025153933610300009],[-0.6],color='b',marker='o')\n",
    "\n",
    "ax.plot(lala5,FF,'#8b8378')\n",
    "ax.plot([-0.059374335059099996],[-0.8],color='r',marker='s')\n",
    "ax.plot([0.85712272431600001],[-0.8],color='g',marker='D')\n",
    "ax.plot([-0.5142142772969999],[-0.8],color='c',marker='P')\n",
    "ax.plot([-0.045666855065919998],[-0.8],color='b',marker='o')\n",
    "\n",
    "plt.xlabel('Second-order assortative coefficient',fontsize=14)\n",
    "\n",
    "\n",
    "plt.savefig('new_range.png')\n",
    "\n",
    "\n",
    "plt.show()"
   ]
  },
  {
   "cell_type": "code",
   "execution_count": 20,
   "metadata": {
    "collapsed": false
   },
   "outputs": [
    {
     "data": {
      "image/png": "[encoded data removed]",
      "text/plain": [
       "<matplotlib.figure.Figure at 0x1128b0400>"
      ]
     },
     "metadata": {},
     "output_type": "display_data"
    }
   ],
   "source": [
    "fig = plt.figure(figsize=(10, 10))\n",
    "\n",
    "\n",
    "#plot( 1, color='r',marker='s', label=\"Maximal second-order assortative case\")\n",
    "plot( 1, color='r',marker='s', label=\"original network\")\n",
    "plot( 2, color='g',marker='D', label=\"Maximal second-order assortative case\")\n",
    "plot( 3, color='c',marker='P', label=\"Maximal second-order disassortative case\")\n",
    "plot( 2, color='b',marker='o', label=\"Maximal random case\")\n",
    " \n",
    "\n",
    "legend(loc='upper left',prop={'size': 20})\n",
    "\n",
    "\n",
    "plt.show()"
   ]
  },
  {
   "cell_type": "code",
   "execution_count": 23,
   "metadata": {
    "collapsed": false
   },
   "outputs": [
    {
     "data": {
      "image/png": "[encoded data removed]",
      "text/plain": [
       "<matplotlib.figure.Figure at 0x112aebf28>"
      ]
     },
     "metadata": {},
     "output_type": "display_data"
    }
   ],
   "source": [
    "BB=[0,0]\n",
    "CC=[-0.2,-0.2]\n",
    "DD=[-0.4,-0.4]\n",
    "EE=[-0.6,-0.6]\n",
    "FF=[-0.8,-0.8]\n",
    "fig = plt.figure(figsize=(7, 5))\n",
    "ax = fig.add_subplot(111)\n",
    "#ax.set_ylim(1, -2)\n",
    "\n",
    "\n",
    "for tick in ax.yaxis.get_major_ticks():\n",
    "    tick.label1On = False\n",
    "    tick.label2On = False\n",
    "#ax = fig.add_subplot(111, frameon=False)\n",
    "#ax.set(xscale=\"log\", yscale=\"log\")\n",
    "#ax.set_aspect(1)\n",
    "l = plt.axvline(x=0,linestyle ='--',c='#CBCACA')\n",
    "\n",
    "ax.plot(Internet_L,BB,'r',label='Scientist')\n",
    "ax.plot([0.506415317806],[0],'r*')\n",
    "ax.plot([-0.794784599486],[0],'rs')\n",
    "ax.plot([-0.20668348195796898],[0],'rx')\n",
    "ax.plot([0.036212469458599995],[0],'ro')\n",
    "\n",
    "ax.plot(Protein_L,CC,'m',label='Protein')\n",
    "ax.plot([0.93460836280500004],[-0.2],'m*')\n",
    "ax.plot([-0.71777146547218718],[-0.2],'ms')\n",
    "ax.plot([-0.0067848781199127597],[-0.2],'mx')\n",
    "ax.plot([0.032640470545299997],[-0.2],'mo')\n",
    "\n",
    "ax.plot(Scientist_L,DD,'y',label='Scientist')\n",
    "ax.plot([0.97291347752185564],[-0.4],'y*')\n",
    "ax.plot([-0.76794009071831981],[-0.4],'ys')\n",
    "ax.plot([0.11267755281660038],[-0.4],'yx')\n",
    "ax.plot([0.64744506162600002],[-0.4],'yo')\n",
    "\n",
    "ax.plot(ER_L,EE,'b',label='ER')\n",
    "ax.plot([0.95296544239299996],[-0.6],'b*')\n",
    "ax.plot([-0.92884285384499998],[-0.6],'bs')\n",
    "ax.plot([0.00025153933610300009],[-0.6],'bx')\n",
    "ax.plot([0.0061109083881099998],[-0.6],'bo')\n",
    "\n",
    "ax.plot(BA_L,FF,'c',label='BA')\n",
    "ax.plot([0.85712272431600001],[-0.8],'c*')\n",
    "ax.plot([-0.51421427729699998],[-0.8],'cs')\n",
    "ax.plot([-0.045666855065919998],[-0.8],'cx')\n",
    "ax.plot([-0.059374335059099996],[-0.8],'co')\n",
    "\n",
    "\n",
    "\n",
    "\n",
    "plt.xlabel('Second-order assortative coefficient',fontsize=12)\n",
    "\n",
    "\n",
    "#pylab.legend(loc='lower center')\n",
    "#plt.title('Range', fontsize = 10)\n",
    "\n",
    "\n",
    "#pylab.legend(loc='upper right')\n",
    "#plt.savefig('Range.png')\n",
    "plt.show()"
   ]
  },
  {
   "cell_type": "code",
   "execution_count": 11,
   "metadata": {
    "collapsed": false
   },
   "outputs": [
    {
     "data": {
      "image/png": "[encoded data removed]",
      "text/plain": [
       "<matplotlib.figure.Figure at 0x112f2e978>"
      ]
     },
     "metadata": {},
     "output_type": "display_data"
    }
   ],
   "source": [
    "plot( 1, marker='s',color='#ff0000', label=\"Maximal disassortative case\")\n",
    "plot( 2, marker='*',color='#ff0000', label=\"Maximal assortative case\")\n",
    "plot( 3, marker='x',color='#ff0000', label=\"Maximal random case\")\n",
    "plot( 2, marker='o',color='#ff0000', label=\"original network\")\n",
    " \n",
    "legend(loc='upper left')\n",
    "plt.show()"
   ]
  },
  {
   "cell_type": "code",
   "execution_count": 2,
   "metadata": {
    "collapsed": true
   },
   "outputs": [],
   "source": [
    "cc_BA = [0.002255148,0.02087687,0.004164209,0.002701712]\n",
    "cc_ER = [0.0005816374,0.0002566047,0.0002394977,0.0005816374]\n",
    "cc_Protein = [0.06217847,0.0610275,0.009739637,0.007969587]\n",
    "cc_Scientist = [0.370561,0.04318099,0.004448565,0.003487573]\n",
    "cc_Internet = [0.009635567,0.01096752,0.006702372,0.006450996]"
   ]
  },
  {
   "cell_type": "code",
   "execution_count": 3,
   "metadata": {
    "collapsed": true
   },
   "outputs": [],
   "source": [
    "lala1=[min(cc_Internet),max(cc_Internet)]\n",
    "lala2=[min(cc_Protein),max(cc_Protein)]\n",
    "lala3=[min(cc_Scientist),max(cc_Scientist)]\n",
    "lala4=[min(cc_ER),max(cc_ER)]\n",
    "lala5=[min(cc_BA),max(cc_BA)]\n"
   ]
  },
  {
   "cell_type": "code",
   "execution_count": 5,
   "metadata": {
    "collapsed": false
   },
   "outputs": [
    {
     "data": {
      "image/png": "[encoded data removed]",
      "text/plain": [
       "<matplotlib.figure.Figure at 0x10f43bd30>"
      ]
     },
     "metadata": {},
     "output_type": "display_data"
    }
   ],
   "source": [
    "BB=[0,0]\n",
    "CC=[-0.2,-0.2]\n",
    "DD=[-0.4,-0.4]\n",
    "EE=[-0.6,-0.6]\n",
    "FF=[-0.8,-0.8]\n",
    "fig = plt.figure(figsize=(8, 6))\n",
    "ax = fig.add_subplot(111)\n",
    "#ax.set_ylim(1, -2)\n",
    "\n",
    "\n",
    "for tick in ax.yaxis.get_major_ticks():\n",
    "    tick.label1On = False\n",
    "    tick.label2On = False\n",
    "#ax = fig.add_subplot(111, frameon=False)\n",
    "ax.set(xscale=\"log\")\n",
    "#ax.set_aspect(1)\n",
    "#l = plt.axvline(x=0,linestyle ='--',c='#CBCACA')\n",
    "\n",
    "ax.plot(lala1,BB,'#8b8378')\n",
    "\n",
    "#ax.plot(lala1,BB,'#8b8378')\n",
    "ax.plot([0.009635567],[0],color='r',marker='s')\n",
    "ax.plot([0.01096752],[0],color='g',marker='D')\n",
    "ax.plot([0.006702372],[0],color='c',marker='P')\n",
    "ax.plot([0.006450996],[0],color='b',marker='o')\n",
    "\n",
    "\n",
    "ax.plot(lala2,CC,'#8b8378')\n",
    "ax.plot([0.06217847],[-0.2],color='r',marker='s')\n",
    "ax.plot([0.0610275],[-0.2],color='g',marker='D')\n",
    "ax.plot([0.009739637],[-0.2],color='c',marker='P')\n",
    "ax.plot([0.007969587],[-0.2],color='b',marker='o')\n",
    "\n",
    "\n",
    "ax.plot(lala3,DD,'#8b8378')\n",
    "ax.plot([0.370561],[-0.4],color='r',marker='s')\n",
    "ax.plot([0.04318099],[-0.4],color='g',marker='D')\n",
    "ax.plot([0.004448565],[-0.4],color='c',marker='P')\n",
    "ax.plot([0.003487573],[-0.4],color='b',marker='o')\n",
    "\n",
    "\n",
    "ax.plot(lala4,EE,'#8b8378')\n",
    "ax.plot([0.0005816374],[-0.6],color='r',marker='s')\n",
    "ax.plot([0.0002566047],[-0.6],color='g',marker='D')\n",
    "ax.plot([0.0002394977],[-0.6],color='c',marker='P')\n",
    "ax.plot([0.0005816374],[-0.6],color='b',marker='o')\n",
    "\n",
    "ax.plot(lala5,FF,'#8b8378')\n",
    "ax.plot([0.002255148],[-0.8],color='r',marker='s')\n",
    "ax.plot([0.02087687],[-0.8],color='g',marker='D')\n",
    "ax.plot([0.004164209],[-0.8],color='c',marker='P')\n",
    "ax.plot([0.002701712],[-0.8],color='b',marker='o')\n",
    "\n",
    "plt.xlabel('Average clustering coefficient',fontsize=14)\n",
    "\n",
    "\n",
    "plt.savefig('new_acc.png')\n",
    "\n",
    "\n",
    "plt.show()"
   ]
  },
  {
   "cell_type": "code",
   "execution_count": 6,
   "metadata": {
    "collapsed": true
   },
   "outputs": [],
   "source": [
    "cc_BA = [4.300,8.072,4.264,4.319]\n",
    "cc_ER = [5.3792,5.561,5.543,5.379]\n",
    "cc_Protein = [4.222,9.027,4.468,4.056]\n",
    "cc_Scientist = [6.831,9.121,4.915,4.828]\n",
    "cc_Internet = [3.624,5.337,3.256,3.371]"
   ]
  },
  {
   "cell_type": "code",
   "execution_count": 7,
   "metadata": {
    "collapsed": true
   },
   "outputs": [],
   "source": [
    "lala1=[min(cc_Internet),max(cc_Internet)]\n",
    "lala2=[min(cc_Protein),max(cc_Protein)]\n",
    "lala3=[min(cc_Scientist),max(cc_Scientist)]\n",
    "lala4=[min(cc_ER),max(cc_ER)]\n",
    "lala5=[min(cc_BA),max(cc_BA)]"
   ]
  },
  {
   "cell_type": "code",
   "execution_count": 9,
   "metadata": {
    "collapsed": false
   },
   "outputs": [
    {
     "data": {
      "image/png": "[encoded data removed]",
      "text/plain": [
       "<matplotlib.figure.Figure at 0x112c36400>"
      ]
     },
     "metadata": {},
     "output_type": "display_data"
    }
   ],
   "source": [
    "BB=[0,0]\n",
    "CC=[-0.2,-0.2]\n",
    "DD=[-0.4,-0.4]\n",
    "EE=[-0.6,-0.6]\n",
    "FF=[-0.8,-0.8]\n",
    "fig = plt.figure(figsize=(8, 6))\n",
    "ax = fig.add_subplot(111)\n",
    "#ax.set_ylim(1, -2)\n",
    "\n",
    "\n",
    "for tick in ax.yaxis.get_major_ticks():\n",
    "    tick.label1On = False\n",
    "    tick.label2On = False\n",
    "#ax = fig.add_subplot(111, frameon=False)\n",
    "#ax.set(xscale=\"log\")\n",
    "#ax.set_aspect(1)\n",
    "#l = plt.axvline(x=0,linestyle ='--',c='#CBCACA')\n",
    "\n",
    "ax.plot(lala1,BB,'#8b8378')\n",
    "\n",
    "#ax.plot(lala1,BB,'#8b8378')\n",
    "ax.plot([3.624],[0],color='r',marker='s')\n",
    "ax.plot([5.337],[0],color='g',marker='D')\n",
    "ax.plot([3.256],[0],color='c',marker='P')\n",
    "ax.plot([3.371],[0],color='b',marker='o')\n",
    "\n",
    "\n",
    "ax.plot(lala2,CC,'#8b8378')\n",
    "ax.plot([4.222],[-0.2],color='r',marker='s')\n",
    "ax.plot([9.027],[-0.2],color='g',marker='D')\n",
    "ax.plot([4.468],[-0.2],color='c',marker='P')\n",
    "ax.plot([4.056],[-0.2],color='b',marker='o')\n",
    "\n",
    "\n",
    "ax.plot(lala3,DD,'#8b8378')\n",
    "ax.plot([6.831],[-0.4],color='r',marker='s')\n",
    "ax.plot([9.121],[-0.4],color='g',marker='D')\n",
    "ax.plot([4.915],[-0.4],color='c',marker='P')\n",
    "ax.plot([4.828],[-0.4],color='b',marker='o')\n",
    "\n",
    "\n",
    "ax.plot(lala4,EE,'#8b8378')\n",
    "ax.plot([5.3792],[-0.6],color='r',marker='s')\n",
    "ax.plot([5.561],[-0.6],color='g',marker='D')\n",
    "ax.plot([5.543],[-0.6],color='c',marker='P')\n",
    "ax.plot([5.379],[-0.6],color='b',marker='o')\n",
    "\n",
    "ax.plot(lala5,FF,'#8b8378')\n",
    "ax.plot([4.300],[-0.8],color='r',marker='s')\n",
    "ax.plot([8.072],[-0.8],color='g',marker='D')\n",
    "ax.plot([4.264],[-0.8],color='c',marker='P')\n",
    "ax.plot([4.319],[-0.8],color='b',marker='o')\n",
    "\n",
    "plt.xlabel('Average shortest path length',fontsize=14)\n",
    "\n",
    "\n",
    "plt.savefig('new_aspl.png')\n",
    "\n",
    "\n",
    "plt.show()"
   ]
  },
  {
   "cell_type": "code",
   "execution_count": null,
   "metadata": {
    "collapsed": true
   },
   "outputs": [],
   "source": []
  }
 ],
 "metadata": {
  "kernelspec": {
   "display_name": "Python [default]",
   "language": "python",
   "name": "python3"
  },
  "language_info": {
   "codemirror_mode": {
    "name": "ipython",
    "version": 3
   },
   "file_extension": ".py",
   "mimetype": "text/x-python",
   "name": "python",
   "nbconvert_exporter": "python",
   "pygments_lexer": "ipython3",
   "version": "3.5.2"
  }
 },
 "nbformat": 4,
 "nbformat_minor": 2
}
